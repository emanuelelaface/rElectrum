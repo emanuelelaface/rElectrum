{
 "cells": [
  {
   "cell_type": "code",
   "execution_count": 2,
   "metadata": {},
   "outputs": [
    {
     "name": "stderr",
     "output_type": "stream",
     "text": [
      "Exception in thread EventLoop:\n",
      "Traceback (most recent call last):\n",
      "  File \"/Users/emanuelelaface/anaconda/lib/python3.6/threading.py\", line 916, in _bootstrap_inner\n",
      "    self.run()\n",
      "  File \"/Users/emanuelelaface/anaconda/lib/python3.6/threading.py\", line 864, in run\n",
      "    self._target(*self._args, **self._kwargs)\n",
      "  File \"/Users/emanuelelaface/anaconda/lib/python3.6/asyncio/base_events.py\", line 471, in run_until_complete\n",
      "    self.run_forever()\n",
      "  File \"/Users/emanuelelaface/anaconda/lib/python3.6/asyncio/base_events.py\", line 425, in run_forever\n",
      "    raise RuntimeError('This event loop is already running')\n",
      "RuntimeError: This event loop is already running\n",
      "\n"
     ]
    }
   ],
   "source": [
    "from electrum.simple_config import SimpleConfig\n",
    "from electrum import constants\n",
    "from electrum.daemon import Daemon\n",
    "import asyncio\n",
    "from datetime import datetime\n",
    "import pytz\n",
    "asyncio.set_event_loop(asyncio.new_event_loop())\n",
    "unit = 1e8 # BTC\n",
    "\n",
    "config = SimpleConfig({\"testnet\": False})\n",
    "constants.set_mainnet()\n",
    "daemon = Daemon(config, listen_jsonrpc=False)\n",
    "\n",
    "from wallet_functions import WalletInterface"
   ]
  },
  {
   "cell_type": "code",
   "execution_count": 3,
   "metadata": {},
   "outputs": [
    {
     "name": "stdout",
     "output_type": "stream",
     "text": [
      "Welcome to electrs 0.7.1 (Electrum Rust Server)!\n",
      "/Satoshi:0.18.1/\n"
     ]
    }
   ],
   "source": [
    "mywallet = WalletInterface(config, daemon, 'wallets/Emanuele')"
   ]
  },
  {
   "cell_type": "code",
   "execution_count": 4,
   "metadata": {},
   "outputs": [
    {
     "data": {
      "text/plain": [
       "<UTC>"
      ]
     },
     "execution_count": 4,
     "metadata": {},
     "output_type": "execute_result"
    }
   ],
   "source": [
    "pytz.timezone('UTC')"
   ]
  },
  {
   "cell_type": "code",
   "execution_count": 5,
   "metadata": {},
   "outputs": [
    {
     "name": "stdout",
     "output_type": "stream",
     "text": [
      "2017-11-18 17:52:40 23.03872315 23.03872315 30ff36f829d7c9624260d3c86eefa97e0958c4256d1f2df098dd5c2136c43d2b\n",
      "2017-12-03 16:20:22 -23.03872315 0.0 8ff8617af6c287f0ff96043dcba2f58fb2fa918443c86ad29584c28072119839\n",
      "2018-01-06 14:04:25 24.35593321 24.35593321 46298c2629071fb2b6e93fbe7c32ea543e7b6c9ed2e687362839e0238519da04\n"
     ]
    }
   ],
   "source": [
    "for tx in mywallet.wallet.get_history():\n",
    "    tx_time = datetime.fromtimestamp(tx[1].timestamp, pytz.timezone('UTC')).strftime(\"%Y-%m-%d %H:%M:%S\")\n",
    "    print (tx_time, tx[2]/unit,tx[3]/unit, tx[0])"
   ]
  },
  {
   "cell_type": "code",
   "execution_count": 6,
   "metadata": {},
   "outputs": [
    {
     "name": "stdout",
     "output_type": "stream",
     "text": [
      "(2435593321, 0, 0) [('30ff36f829d7c9624260d3c86eefa97e0958c4256d1f2df098dd5c2136c43d2b', 494956), ('46298c2629071fb2b6e93fbe7c32ea543e7b6c9ed2e687362839e0238519da04', 502860), ('8ff8617af6c287f0ff96043dcba2f58fb2fa918443c86ad29584c28072119839', 497396)]\n"
     ]
    }
   ],
   "source": [
    "for addr in mywallet.wallet.get_addresses():\n",
    "    history = mywallet.wallet.get_address_history(addr)\n",
    "    if len(history)>0:\n",
    "        print(mywallet.wallet.get_addr_balance(addr), history)"
   ]
  },
  {
   "cell_type": "code",
   "execution_count": null,
   "metadata": {},
   "outputs": [],
   "source": [
    "net"
   ]
  }
 ],
 "metadata": {
  "kernelspec": {
   "display_name": "Python 3",
   "language": "python",
   "name": "python3"
  },
  "language_info": {
   "codemirror_mode": {
    "name": "ipython",
    "version": 3
   },
   "file_extension": ".py",
   "mimetype": "text/x-python",
   "name": "python",
   "nbconvert_exporter": "python",
   "pygments_lexer": "ipython3",
   "version": "3.6.9"
  }
 },
 "nbformat": 4,
 "nbformat_minor": 2
}
